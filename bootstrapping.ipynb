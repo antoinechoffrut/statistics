{
 "cells": [
  {
   "cell_type": "markdown",
   "metadata": {},
   "source": [
    "# Mean estimation using the bootstrapping method\n",
    "\n",
    "Use the bootstrapping method to estimate a statistic of a distribution from a which a population was done.  The method consists in resampling (with replacement) the population and taking the average of these sample statistics.\n",
    "\n",
    "For illustration purposes, the statistic here is simply the mean of the distribution.\n",
    "\n",
    "---\n",
    "tags: statistics, estimation, bootstrapping"
   ]
  },
  {
   "cell_type": "markdown",
   "metadata": {},
   "source": [
    "## Imports"
   ]
  },
  {
   "cell_type": "code",
   "execution_count": 1,
   "metadata": {},
   "outputs": [],
   "source": [
    "import numpy as np"
   ]
  },
  {
   "cell_type": "markdown",
   "metadata": {},
   "source": [
    "## Generate data"
   ]
  },
  {
   "cell_type": "code",
   "execution_count": 2,
   "metadata": {},
   "outputs": [],
   "source": [
    "pop_size = 1000\n",
    "mu = .5\n",
    "sigma = .2\n",
    "data = mu + np.random.normal(size=pop_size)*sigma"
   ]
  },
  {
   "cell_type": "markdown",
   "metadata": {},
   "source": [
    "## Bootstrap estimate of the mean"
   ]
  },
  {
   "cell_type": "code",
   "execution_count": 3,
   "metadata": {},
   "outputs": [
    {
     "name": "stdout",
     "output_type": "stream",
     "text": [
      "Mean of distribution              : 0.5000\n",
      "Average of bootstrap sample means : 0.4905\n"
     ]
    }
   ],
   "source": [
    "nb_bootstraps = 10\n",
    "len_bootstrap = 1_000\n",
    "samples = np.random.choice(data, size=nb_bootstraps*len_bootstrap)\n",
    "\n",
    "bootstraps = np.reshape(samples, (nb_bootstraps, len_bootstrap))\n",
    "\n",
    "means = bootstraps.mean(axis=1)\n",
    "\n",
    "print(f\"Mean of distribution              : {mu:>4.4f}\")\n",
    "print(f\"Average of bootstrap sample means : {np.mean(means):.4f}\")"
   ]
  }
 ],
 "metadata": {
  "kernelspec": {
   "display_name": "Python 3",
   "language": "python",
   "name": "python3"
  },
  "language_info": {
   "codemirror_mode": {
    "name": "ipython",
    "version": 3
   },
   "file_extension": ".py",
   "mimetype": "text/x-python",
   "name": "python",
   "nbconvert_exporter": "python",
   "pygments_lexer": "ipython3",
   "version": "3.7.4"
  }
 },
 "nbformat": 4,
 "nbformat_minor": 2
}
