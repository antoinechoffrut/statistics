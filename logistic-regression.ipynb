{
 "cells": [
  {
   "cell_type": "markdown",
   "metadata": {},
   "source": [
    "# Logistic regression\n",
    "Perform logistic regression on scalar univariate data (i.e. depenent and independent variables are one-dimensional) using `scikit-learn`.  Monitor the accuracy rate as a function of the threshold value (conventionally taken to be `50%`).\n",
    "\n",
    "\n",
    "# References\n",
    "Statistical tools:\n",
    "- [logistic function](https://scikit-learn.org/stable/auto_examples/linear_model/plot_logistic.html) with a simple example of one-dimensional logistic regression (scikit-learn)\n",
    "- [logistic regressor](https://scikit-learn.org/stable/modules/generated/sklearn.linear_model.LogisticRegression.html) (scikit-learn)\n",
    "- [make_regression](https://scikit-learn.org/stable/modules/generated/sklearn.datasets.make_regression.html) (scikit-learn)\n",
    "- [expit: logistic sigmoid function](https://docs.scipy.org/doc/scipy/reference/generated/scipy.special.expit.html#scipy.special.expit) (scikit-learn)\n",
    "- [adjusting threshold in logistic regressor](https://stackoverflow.com/a/52253597/9472676) (J. Doe on stackoverflow)\n",
    "\n",
    "Dataset generation:\n",
    "- [make_blobs](https://scikit-learn.org/stable/modules/generated/sklearn.datasets.make_blobs.html) (scikit-learn)\n",
    "- [make_classification](https://scikit-learn.org/stable/modules/generated/sklearn.datasets.make_classification.html) (scikit-learn)\n",
    "- [generating synthetic classification data using scikit-learn](https://towardsdatascience.com/https-medium-com-faizanahemad-generating-synthetic-classification-data-using-scikit-1590c1632922) (Faizan Ahemad)\n",
    "- [How to generate test datasets in Python using scikit-learn](https://machinelearningmastery.com/generate-test-datasets-python-scikit-learn/) (Jason Brownlee)\n",
    "\n",
    "Visualization:\n",
    "- [matplotlib axes plot](https://matplotlib.org/3.1.1/api/_as_gen/matplotlib.axes.Axes.plot.html)\n",
    "\n",
    "---\n",
    "tags: statistics, logistic regression, visualization, theory"
   ]
  },
  {
   "cell_type": "markdown",
   "metadata": {},
   "source": [
    "# Imports"
   ]
  },
  {
   "cell_type": "code",
   "execution_count": 1,
   "metadata": {},
   "outputs": [],
   "source": [
    "import numpy as np\n",
    "import matplotlib.pyplot as plt\n",
    "from scipy.special import expit, logit\n",
    "from sklearn.metrics import accuracy_score\n",
    "from sklearn.linear_model import LogisticRegression\n",
    "%matplotlib inline"
   ]
  },
  {
   "cell_type": "markdown",
   "metadata": {},
   "source": [
    "# Constants"
   ]
  },
  {
   "cell_type": "code",
   "execution_count": 2,
   "metadata": {},
   "outputs": [],
   "source": [
    "COLOR_SAMPLES = 'tab:blue'\n",
    "COLOR_PREDS = 'tab:orange'\n",
    "COLOR_MODEL = 'tab:red'"
   ]
  },
  {
   "cell_type": "markdown",
   "metadata": {},
   "source": [
    "# Generate data"
   ]
  },
  {
   "cell_type": "code",
   "execution_count": 3,
   "metadata": {},
   "outputs": [],
   "source": [
    "n_samples = 100\n",
    "x_min, x_max = -5, 5\n",
    "X = np.random.normal(size=n_samples)\n",
    "y = (X>0).astype(np.float)\n",
    "\n",
    "X[X>0] *= 2\n",
    "X += .3*np.random.normal(size=n_samples)\n",
    "X = X[:,None]"
   ]
  },
  {
   "cell_type": "code",
   "execution_count": 4,
   "metadata": {},
   "outputs": [
    {
     "data": {
      "image/png": "[encoded data removed]",
      "text/plain": [
       "<Figure size 432x288 with 1 Axes>"
      ]
     },
     "metadata": {
      "needs_background": "light"
     },
     "output_type": "display_data"
    }
   ],
   "source": [
    "fig, ax = plt.subplots()\n",
    "ax.scatter(X, y)\n",
    "ax.grid();"
   ]
  },
  {
   "cell_type": "markdown",
   "metadata": {},
   "source": [
    "# Fit classifier"
   ]
  },
  {
   "cell_type": "code",
   "execution_count": 5,
   "metadata": {},
   "outputs": [
    {
     "data": {
      "text/plain": [
       "LogisticRegression(C=1.0, class_weight=None, dual=False, fit_intercept=True,\n",
       "                   intercept_scaling=1, l1_ratio=None, max_iter=100,\n",
       "                   multi_class='warn', n_jobs=None, penalty='l2',\n",
       "                   random_state=None, solver='lbfgs', tol=0.0001, verbose=0,\n",
       "                   warm_start=False)"
      ]
     },
     "execution_count": 5,
     "metadata": {},
     "output_type": "execute_result"
    }
   ],
   "source": [
    "clf = LogisticRegression(solver='lbfgs');\n",
    "clf.fit(X, y)"
   ]
  },
  {
   "cell_type": "code",
   "execution_count": 6,
   "metadata": {},
   "outputs": [],
   "source": [
    "def clf_predict(X, clf=clf, thresh=.5):\n",
    "    \"\"\"Prediction of a logistic regressor with adjustable threshold.\"\"\"\n",
    "    preds = np.where(clf.predict_proba(X)[:,1] > thresh, 1, 0)\n",
    "    return preds\n",
    "\n",
    "def clf_predict_1d(X, clf=clf, thresh=.5):\n",
    "    \"\"\"Prediction of a one-dimensional logistic regression with adjustable threshold.\"\"\"\n",
    "    val = (logit(thresh)-clf.intercept_)/clf.coef_[0]\n",
    "    preds = np.where(X>val, 1, 0)\n",
    "    return preds"
   ]
  },
  {
   "cell_type": "markdown",
   "metadata": {},
   "source": [
    "# Make predictions"
   ]
  },
  {
   "cell_type": "code",
   "execution_count": 7,
   "metadata": {},
   "outputs": [],
   "source": [
    "line_X = np.linspace(X.min(), X.max(), 100)\n",
    "scores = line_X * clf.coef_ + clf.intercept_\n",
    "loss = expit(scores).ravel()\n",
    "\n",
    "thresh = 0.5\n",
    "val = (logit(thresh)-clf.intercept_)/clf.coef_[0]\n",
    "# preds = clf.predict(X)\n",
    "# preds = clf_predict(X, thresh=thresh)\n",
    "preds = clf_predict_1d(X, thresh=thresh)"
   ]
  },
  {
   "cell_type": "markdown",
   "metadata": {},
   "source": [
    "# Metrics"
   ]
  },
  {
   "cell_type": "code",
   "execution_count": 8,
   "metadata": {},
   "outputs": [
    {
     "data": {
      "text/plain": [
       "0.92"
      ]
     },
     "execution_count": 8,
     "metadata": {},
     "output_type": "execute_result"
    }
   ],
   "source": [
    "# acc_score = (y == preds.ravel()).mean()\n",
    "accuracy_score(y, preds)"
   ]
  },
  {
   "cell_type": "markdown",
   "metadata": {},
   "source": [
    "# Visualization"
   ]
  },
  {
   "cell_type": "code",
   "execution_count": 9,
   "metadata": {},
   "outputs": [
    {
     "data": {
      "image/png": "[encoded data removed]",
      "text/plain": [
       "<Figure size 720x432 with 1 Axes>"
      ]
     },
     "metadata": {
      "needs_background": "light"
     },
     "output_type": "display_data"
    }
   ],
   "source": [
    "fig, ax = plt.subplots(figsize=(10, 6))\n",
    "ax.scatter(X, y, marker='o', color=COLOR_SAMPLES)\n",
    "ax.scatter(X, preds, marker='+', color=COLOR_PREDS)\n",
    "ax.plot([val, val], [0, 1], color='k')\n",
    "ax.plot([X.min(), X.max()], [thresh, thresh], color='k')\n",
    "ax.plot(line_X, loss, color=COLOR_MODEL)\n",
    "\n",
    "ax.grid();"
   ]
  },
  {
   "cell_type": "code",
   "execution_count": 10,
   "metadata": {},
   "outputs": [],
   "source": [
    "acc_scores = []\n",
    "thresh_range = np.arange(0.001,1,0.001)\n",
    "for thresh in thresh_range:\n",
    "    val = (logit(thresh)-clf.intercept_)/clf.coef_[0]\n",
    "    preds = clf_predict_1d(X, thresh=thresh)\n",
    "    acc_score = accuracy_score(y, preds)\n",
    "    acc_scores.append(acc_score)"
   ]
  },
  {
   "cell_type": "code",
   "execution_count": 11,
   "metadata": {},
   "outputs": [
    {
     "data": {
      "image/png": "[encoded data removed]",
      "text/plain": [
       "<Figure size 432x288 with 1 Axes>"
      ]
     },
     "metadata": {
      "needs_background": "light"
     },
     "output_type": "display_data"
    }
   ],
   "source": [
    "fig, ax = plt.subplots()\n",
    "ax.plot(thresh_range, acc_scores);\n",
    "ax.set_title(\"Accuracy score vs threshold\", fontsize=18)\n",
    "ax.set_xlabel(\"threshold\", fontsize=14)\n",
    "ax.set_ylabel(\"accuracy score\", fontsize=14)\n",
    "ax.set_ylim([0,1])\n",
    "ax.grid()"
   ]
  }
 ],
 "metadata": {
  "kernelspec": {
   "display_name": "Python 3",
   "language": "python",
   "name": "python3"
  },
  "language_info": {
   "codemirror_mode": {
    "name": "ipython",
    "version": 3
   },
   "file_extension": ".py",
   "mimetype": "text/x-python",
   "name": "python",
   "nbconvert_exporter": "python",
   "pygments_lexer": "ipython3",
   "version": "3.7.4"
  }
 },
 "nbformat": 4,
 "nbformat_minor": 2
}
