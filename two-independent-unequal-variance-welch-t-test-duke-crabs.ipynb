{
 "cells": [
  {
   "cell_type": "markdown",
   "metadata": {},
   "source": [
    "# Two Independent Samples Unequal Variance (Welch’s Test)\n",
    "Reproduce the example from Duke, see link below.\n",
    "\n",
    "References:\n",
    "- [Two Independent Samples Unequal Variance (Welch’s Test)](https://sites.nicholas.duke.edu/statsreview/means/welch/) (Nicholas School of the Environment, Duke University)"
   ]
  },
  {
   "cell_type": "markdown",
   "metadata": {},
   "source": [
    "# Imports"
   ]
  },
  {
   "cell_type": "code",
   "execution_count": 1,
   "metadata": {},
   "outputs": [],
   "source": [
    "import numpy as np\n",
    "import scipy.stats\n",
    "# from statsmodels.stats import weightstats\n",
    "\n",
    "import matplotlib.pyplot as plt\n",
    "%matplotlib inline"
   ]
  },
  {
   "cell_type": "markdown",
   "metadata": {},
   "source": [
    "From the link (with some rearrangments, emphasis added).\n",
    "\n",
    "> To conduct a two independent sample comparison of means test, you follow very similar steps as described in the one sample test with some modifications.  For this problem, we want to compare the average weights of blue crabs in two river basins: (1) Tar-Pamlico and (2) Neuse River.  Based on the health of the two rivers, we believe that the crabs in the Neuse will be larger, on average, and would like to test for this effect.  \n",
    "\n",
    "> **Decide type of comparison of means test.**  \n",
    "This problems illustrates a two independent sample test.  We will use the Welch’s t-test which does NOT require the assumption of equal variance between populations.\n",
    " \n",
    "> **Decide whether a one- or two-sided test.**  \n",
    "This is a one-sided test in which we hypothesize that the crabs in the Neuse will weigh more than the crabs in the Tar Pamlico basin.\n",
    " \n",
    "> **Establish null and alternative hypotheses.**    \n",
    "- Null hypothesis (H0):  $\\mu_\\text{Neuse} \\le \\mu_\\text{Tar-Pamlico}$.  \n",
    "- Alternative hypothesis (Ha):  $\\mu_\\text{Neuse} > \\mu_\\text{Tar-Pamlico}$.\n",
    " \n",
    "\n",
    "> Because we want to test if the Neuse crabs are larger than the crabs in the Tar Pamlico basin, we set the alternative hypothesis to state that the mean weight of crabs in the Neuse minus the mean weight of TP crabs is greater than zero.  The null hypothesis should cover all other possible outcomes.  \n",
    "> **Please note that the population parameters are used in the hypotheses and NOT the sample statistics.**\n",
    "\n",
    "**Note.**  The last remark is an import one.  For concreteness, further down it explains that we will take the two means (under the null hypothesis) to be equal, so that their difference is zero.  \n",
    " \n",
    "\n",
    "> **Decide whether a z-statistic or t-statistic is appropriate.**  \n",
    "We do not know the true standard deviations of the weights of the crabs in the two basins.  Therefore it is most appropriate to use a t-test in this example.  If the sample size is large enough, the t-distribution will approximate the normal distribution.\n",
    "\n",
    "Not explicitly stated that these are Welch's t-statistics.\n",
    "\n",
    "> We randomly sample 100 blue crabs in each basin.  The mean weight of the Tar Pamlico crabs is 700 grams with a standard deviation of 300g (stp).  The mean weight of the Neuse crabs is 800 grams with a standard deviation of 400 grams (sn).  A side-by-side boxplot of the two samples is shown below."
   ]
  },
  {
   "cell_type": "code",
   "execution_count": 2,
   "metadata": {},
   "outputs": [
    {
     "data": {
      "image/png": "[encoded data removed]",
      "text/plain": [
       "<Figure size 576x288 with 1 Axes>"
      ]
     },
     "metadata": {
      "needs_background": "light"
     },
     "output_type": "display_data"
    },
    {
     "data": {
      "image/png": "[encoded data removed]",
      "text/plain": [
       "<Figure size 576x288 with 1 Axes>"
      ]
     },
     "metadata": {
      "needs_background": "light"
     },
     "output_type": "display_data"
    }
   ],
   "source": [
    "# Tar-Pamlico crabs\n",
    "label0 = 'Tar-Pamlico'\n",
    "idx0 = 0\n",
    "mu0 = 700\n",
    "sigma0 = 300\n",
    "n0 = 100\n",
    "\n",
    "# Neuse crab\n",
    "label1 = 'Neuse'\n",
    "idx1 = 1\n",
    "mu1 = 800\n",
    "sigma1 = 400\n",
    "n1 = n0\n",
    "\n",
    "# Aggregates\n",
    "labels = [label0, label1]\n",
    "idxs = [idx0, idx1]\n",
    "mus = np.array([mu0, mu1])\n",
    "sigmas = np.array([sigma0, sigma1])\n",
    "ns = np.array([n0, n1])\n",
    "\n",
    "# Visualization\n",
    "fig, ax = plt.subplots(figsize=(8, 4))\n",
    "\n",
    "ax.errorbar(idxs, mus, sigmas, fmt='o')\n",
    "\n",
    "ax.set_xlim(idxs[0] - .5, idxs[-1] + .5)\n",
    "ax.set_xticks(idxs)\n",
    "ax.set_xticklabels(labels)\n",
    "ax.set_title(\"Average weights and standard deviations\", fontsize=18)\n",
    "\n",
    "ax.grid(axis='y');"
   ]
  },
  {
   "cell_type": "markdown",
   "metadata": {},
   "source": [
    "> **Calculate the Welch’s t-statistic.**  \n",
    "As you may recall from the one sample module, the general form of a test statistic is:\n",
    "$$\\text{test statistic} = \\frac{estimate - value\\,we\\,hypothesize}{standard\\,error}$$\n",
    "In the case of two independent samples, our estimate is the difference between the two sample means.  The hypothesized value is the difference we hypothesize between the two true population means—this is often zero (to test whether there IS a difference or not between the means of the two populations).  \n",
    "\n",
    "Here, \"N\" is for \"Neuse\", \"T\" for \"Tar-Pamlico\":\n",
    "$$t_\\text{stat} = \\frac{(\\overline x_N - \\overline x_T) - (\\mu_N - \\mu_T)}{\\sqrt{\\frac{s_N^2}{n_N} + \\frac{s_T^2}{n_T}}}$$\n",
    "\n",
    "Calculate the standard error:"
   ]
  },
  {
   "cell_type": "code",
   "execution_count": 3,
   "metadata": {},
   "outputs": [],
   "source": [
    "sem = np.sqrt(np.sum(sigmas**2/ns))"
   ]
  },
  {
   "cell_type": "markdown",
   "metadata": {},
   "source": [
    "> Statistical packages estimate the degrees of freedom for the Welch’s t-test, or more simplistically (and less accurately) we can estimate the degrees of freedom by subtracting one from the smaller of the two sample sizes (in this case 99).  So in this problem, the t-statistic equals (800 – 700)/50 = 100/50 = 2, with an estimated degrees of freedom of 99.\n",
    "\n",
    "\n",
    "Calculate t-statistic and set degrees of freedom (**note** this is not an accurate value for the degrees of freedom, but it will do):"
   ]
  },
  {
   "cell_type": "code",
   "execution_count": 4,
   "metadata": {},
   "outputs": [
    {
     "name": "stdout",
     "output_type": "stream",
     "text": [
      "t-statistic: 2.000\n",
      "t-statistic: 2.000\n"
     ]
    }
   ],
   "source": [
    "mu_diff = mu1 - mu0\n",
    "t_stat = mu_diff/sem\n",
    "\n",
    "df = min(ns) - 1\n",
    "print(f\"t-statistic: {t_stat:.3f}\")"
   ]
  },
  {
   "cell_type": "markdown",
   "metadata": {},
   "source": [
    "> **Determine p-value from the test statistic using the appropriate z or t distribution.**  \n",
    "A t-stat of 2, with 99 degrees of freedom, corresponds with a small p-value–less than 0.025 (p(t>2)<0.025).  We can reject the null hypothesis at an alpha of 0.05."
   ]
  },
  {
   "cell_type": "code",
   "execution_count": 5,
   "metadata": {},
   "outputs": [
    {
     "name": "stdout",
     "output_type": "stream",
     "text": [
      "p-value for the test: 0.0241\n",
      "p-value for the test: 0.0241\n"
     ]
    }
   ],
   "source": [
    "p_value = scipy.stats.t.sf(t_stat, df=df)\n",
    "print(f\"p-value for the test: {p_value:.4f}\")"
   ]
  },
  {
   "cell_type": "markdown",
   "metadata": {},
   "source": [
    "> **Interpret the p-value in terms of the hypotheses established prior to the test.**   \n",
    "These results suggest that the mean weight of blue crabs in the Neuse are greater than the mean weight of blue crabs in the Tar Pamlico."
   ]
  }
 ],
 "metadata": {
  "kernelspec": {
   "display_name": "Python 3",
   "language": "python",
   "name": "python3"
  },
  "language_info": {
   "codemirror_mode": {
    "name": "ipython",
    "version": 3
   },
   "file_extension": ".py",
   "mimetype": "text/x-python",
   "name": "python",
   "nbconvert_exporter": "python",
   "pygments_lexer": "ipython3",
   "version": "3.7.4"
  }
 },
 "nbformat": 4,
 "nbformat_minor": 2
}
