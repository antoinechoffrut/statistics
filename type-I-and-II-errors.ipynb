{
 "cells": [
  {
   "cell_type": "markdown",
   "metadata": {},
   "source": [
    "# Probability of Type I and II errors\n",
    "From [these notes (University of Northern Iowa)](http://www.cs.uni.edu/~campbell/stat/inf5.html).\n",
    "\n",
    "# References\n",
    "- [Confusing statistical terms: alpha and beta](https://www.theanalysisfactor.com/confusing-statistical-terms-1-alpha-and-beta/) (theanalysisfactor.com)\n",
    "\n",
    "--- \n",
    "tags: statistics, type I error, type II error"
   ]
  },
  {
   "cell_type": "markdown",
   "metadata": {},
   "source": [
    "# Imports"
   ]
  },
  {
   "cell_type": "code",
   "execution_count": 1,
   "metadata": {},
   "outputs": [],
   "source": [
    "import numpy as np\n",
    "from scipy import stats\n",
    "import matplotlib.pyplot as plt\n",
    "%matplotlib inline"
   ]
  },
  {
   "cell_type": "markdown",
   "metadata": {},
   "source": [
    "# Type I error \n",
    ">A type I error occurs when one rejects the null hypothesis when it is true. The probability of a type I error is the level of significance of the test of hypothesis, and is denoted by *alpha*. Usually a one-tailed test of hypothesis is is used when one talks about type I error. "
   ]
  },
  {
   "cell_type": "markdown",
   "metadata": {},
   "source": [
    "# Remark\n",
    "Note that here we use the actual population statistics (mean and standard deviation) since we are not calculating test statistics, but rather calculating the probability of an error occurring."
   ]
  },
  {
   "cell_type": "markdown",
   "metadata": {},
   "source": [
    "# Example 1 \n",
    "> If the cholesterol level of healthy men is normally distributed with a mean of 180 and a standard deviation of 20, and men with cholesterol levels over 225 are diagnosed as not healthy, what is the probability of a type one error?\n",
    "z=(225-180)/20=2.25; the corresponding tail area is .0122, which is the probability of a type I error.\n",
    "\n",
    "Verification:"
   ]
  },
  {
   "cell_type": "code",
   "execution_count": 2,
   "metadata": {},
   "outputs": [
    {
     "name": "stdout",
     "output_type": "stream",
     "text": [
      "Probability of misdiagnosed healthy patient (type I error): alpha=1.22%\n"
     ]
    }
   ],
   "source": [
    "mu0 = 180 # population mean\n",
    "sigma = 20 # population standard deviation\n",
    "sample = 225 # sample weight\n",
    "z = (sample - mu0)/sigma # z-statistic\n",
    "p = stats.norm.sf(z) # probability of type I error\n",
    "print(f\"Probability of misdiagnosed healthy patient (type I error): alpha={p:.2%}\")"
   ]
  },
  {
   "cell_type": "markdown",
   "metadata": {},
   "source": [
    "# Example 2\n",
    "> If the cholesterol level of healthy men is normally distributed with a mean of 180 and a standard deviation of 20, at what level (in excess of 180) should men be diagnosed as not healthy if you want the probability of a type one error to be 2%?\n",
    "2% in the tail corresponds to a z-score of 2.05; 2.05 × 20 = 41; 180 + 41 = 221.\n",
    "\n",
    "Verification:"
   ]
  },
  {
   "cell_type": "code",
   "execution_count": 3,
   "metadata": {},
   "outputs": [
    {
     "name": "stdout",
     "output_type": "stream",
     "text": [
      "Critical weight: 221\n"
     ]
    }
   ],
   "source": [
    "mu0 = 180\n",
    "sigma = 20\n",
    "p = .02\n",
    "z = stats.norm.isf(p)\n",
    "w = mu0 + sigma*z\n",
    "print(f\"Critical weight: {w:.0f}\")"
   ]
  },
  {
   "cell_type": "markdown",
   "metadata": {},
   "source": [
    "# Type II error\n",
    "> A type II error occurs when one rejects the alternative hypothesis (fails to reject the null hypothesis) when the alternative hypothesis is true. The probability of a type II error is denoted by *beta*. One cannot evaluate the probability of a type II error when the alternative hypothesis is of the form µ > 180, but often the alternative hypothesis is a competing hypothesis of the form: the mean of the alternative population is 300 with a standard deviation of 30, in which case one can calculate the probability of a type II error. "
   ]
  },
  {
   "cell_type": "markdown",
   "metadata": {},
   "source": [
    "# Example 1\n",
    "> If men predisposed to heart disease have a mean cholesterol level of 300 with a standard deviation of 30, but only men with a cholesterol level over 225 are diagnosed as predisposed to heart disease, what is the probability of a type II error (the null hypothesis is that a person is not predisposed to heart disease).\n",
    "z=(225-300)/30=-2.5 which corresponds to a tail area of .0062, which is the probability of a type II error (*beta*). \n",
    "\n",
    "Verification:"
   ]
  },
  {
   "cell_type": "code",
   "execution_count": 4,
   "metadata": {},
   "outputs": [
    {
     "name": "stdout",
     "output_type": "stream",
     "text": [
      "Probability predisposed patient *not* diagnosed (type II error): beta=0.621%\n"
     ]
    }
   ],
   "source": [
    "mu1 = 300\n",
    "sigma1 = 30\n",
    "w = 225\n",
    "z = (w - mu1)/sigma1\n",
    "p = stats.norm.cdf(z)\n",
    "print(f\"Probability predisposed patient *not* diagnosed (type II error): beta={p:.3%}\")"
   ]
  },
  {
   "cell_type": "markdown",
   "metadata": {},
   "source": [
    "# Example 2\n",
    "> If men predisposed to heart disease have a mean cholesterol level of 300 with a standard deviation of 30, above what cholesterol level should you diagnose men as predisposed to heart disease if you want the probability of a type II error to be 1%? (The null hypothesis is that a person is not predisposed to heart disease.)\n",
    "1% in the tail corresponds to a z-score of 2.33 (or -2.33); -2.33 × 30 = -70; 300 - 70 = 230.\n",
    "\n",
    "Verification:"
   ]
  },
  {
   "cell_type": "code",
   "execution_count": 5,
   "metadata": {},
   "outputs": [
    {
     "name": "stdout",
     "output_type": "stream",
     "text": [
      "Threshold weight for probability of missed diagnosis (type II error) equal to 1%: 230\n"
     ]
    }
   ],
   "source": [
    "mu1 = 300\n",
    "sigma1 = 30\n",
    "p = 0.01\n",
    "z = stats.norm.ppf(p)\n",
    "w = mu1 + sigma1*z\n",
    "print(f\"Threshold weight for probability of missed diagnosis (type II error) equal to 1%: {w:.0f}\")"
   ]
  },
  {
   "cell_type": "markdown",
   "metadata": {},
   "source": [
    "# Conditional and absolute probabilities \n",
    "> It is useful to distinguish between the probability that a healthy person is dignosed as diseased, and the probability that a person is healthy and diagnosed as diseased. The former may be rephrased as given that a person is healthy, the probability that he is diagnosed as diseased; or the probability that a person is diseased, conditioned on that he is healthy. The latter refers to the probability that a randomly chosen person is both healthy and diagnosed as diseased. Probabilities of type I and II error refer to the conditional probabilities. A technique for solving Bayes rule problems may be useful in this context. "
   ]
  },
  {
   "cell_type": "markdown",
   "metadata": {},
   "source": [
    "# Example\n",
    "> If the cholesterol level of healthy men is normally distributed with a mean of 180 and a standard deviation of 20, but men predisposed to heart disease have a mean cholesterol level of 300 with a standard deviation of 30, and the cholesterol level 225 is used to demarcate healthy from prediposed men; what fration of the population are healthy and diagnosed as predisposed? what fraction of the population are predisposed and diagnosed as healthy? Assume 90% of the population are healthy (hence 10% predisposed). \n",
    "Let A designate healthy, B designate predisposed, C designate cholesterol level below 225, D designate cholesterol level above 225. P(D|A) = .0122, the probability of a type I error calculated above. Hence P(AD)=P(D|A)P(A)=.0122 × .9 = .0110. P(C|B) = .0062, the probability of a type II error calculated above. Hence P(CD)=P(C|B)P(B)=.0062 × .1 = .00062.\n",
    "\n",
    "Verification:"
   ]
  },
  {
   "cell_type": "code",
   "execution_count": 6,
   "metadata": {},
   "outputs": [
    {
     "name": "stdout",
     "output_type": "stream",
     "text": [
      "Probability diagnosed given health: 1.22%\n",
      "Fraction of population healthy and diagnosed (probability of type I error): 1.10%\n",
      "Probability not diagnosed though predisposed: 0.62%\n",
      "Fraction of population predisposed but not diagnosed (probability of type II error): 0.06%\n"
     ]
    }
   ],
   "source": [
    "# Parameters\n",
    "m0 = 180\n",
    "sigma0 = 20\n",
    "mu1 = 300\n",
    "sigma1 = 30\n",
    "w_crit = 225\n",
    "p_H = .9\n",
    "p_P = 1 - p_H\n",
    "\n",
    "# Conditional probabilities: H=health, P=predisposed, D=diagnosed, N=not diagnosed\n",
    "z0 = (w_crit - mu0)/sigma0\n",
    "p_D_given_H = stats.norm.sf(z0)\n",
    "p_N_given_H = 1 - p_D_given_H\n",
    "\n",
    "z1 = (w_crit - mu1)/sigma1\n",
    "p_N_given_P = stats.norm.cdf(z1)\n",
    "p_D_given_P = 1 - p_N_given_P\n",
    "\n",
    "p_D_and_H = p_H*p_D_given_H\n",
    "p_N_and_P = p_P*p_N_given_P\n",
    "\n",
    "print(f\"Probability diagnosed given health: {p_D_given_H:.2%}\")\n",
    "print(f\"Fraction of population healthy and diagnosed (probability of type I error): {p_D_and_H:.2%}\")\n",
    "print(f\"Probability not diagnosed though predisposed: {p_N_given_P:.2%}\")\n",
    "print(f\"Fraction of population predisposed but not diagnosed (probability of type II error): {p_N_and_P:.2%}\")"
   ]
  },
  {
   "cell_type": "markdown",
   "metadata": {},
   "source": [
    "# Bayes' rule\n",
    "> A problem requiring Bayes rule or the technique referenced above, is what is the probability that someone with a cholesterol level over 225 is predisposed to heart disease, i.e., P(B|D)=? This is P(BD)/P(D) by the definition of conditional probability. P(BD)=P(D|B)P(B). For P(D|B) we calculate the z-score (225-300)/30 = -2.5, the relevant tail area is .9938 for the heavier people; .9938 × .1 = .09938. P(D) = P(AD) + P(BD) = .0122 + .09938 = .11158 (the summands were calculated above). Inserting this into the definition of conditional probability we have .09938/.11158 = .89066 = P(B|D).\n",
    "\n",
    "Looks like there is a mistake above in the calculation of `p(AD)=p(D|A)p(A)=.0122*.9=.0110`.  \n",
    "\n",
    "My calculations:"
   ]
  },
  {
   "cell_type": "code",
   "execution_count": 7,
   "metadata": {},
   "outputs": [
    {
     "name": "stdout",
     "output_type": "stream",
     "text": [
      "Probability of being predisposed when diagnosed: 90.03%\n"
     ]
    }
   ],
   "source": [
    "p_D = p_D_given_H * p_H + p_D_given_P * p_P\n",
    "p_P_given_D = (p_D_given_P * p_P)/p_D\n",
    "print(f\"Probability of being predisposed when diagnosed: {p_P_given_D:.2%}\")"
   ]
  },
  {
   "cell_type": "markdown",
   "metadata": {},
   "source": [
    "# Relationship between probabilities of type I and II errors"
   ]
  },
  {
   "cell_type": "code",
   "execution_count": 9,
   "metadata": {},
   "outputs": [
    {
     "data": {
      "image/png": "[encoded data removed]",
      "text/plain": [
       "<Figure size 864x720 with 1 Axes>"
      ]
     },
     "metadata": {
      "needs_background": "light"
     },
     "output_type": "display_data"
    }
   ],
   "source": [
    "mu0 = 180\n",
    "sigma0 = 20\n",
    "mu1 = 300\n",
    "sigma1 = 30\n",
    "\n",
    "dw = 30\n",
    "w = np.arange(mu0 + dw, mu1 - dw, 2)\n",
    "z0 = (w - mu0)/sigma0\n",
    "z1 = (w - mu1)/sigma1\n",
    "\n",
    "alpha = [stats.norm.sf(z) for z in z0]\n",
    "beta = [stats.norm.cdf(z) for z in z1]    \n",
    "power = [1 - b for b in beta]\n",
    "\n",
    "dw = 30\n",
    "W = np.arange(mu0 + dw, mu1 - dw, 5)\n",
    "Z0 = (W - mu0)/sigma0\n",
    "Z1 = (W - mu1)/sigma1\n",
    "\n",
    "ALPHA = [stats.norm.sf(z) for z in Z0]\n",
    "BETA = [stats.norm.cdf(z) for z in Z1]    \n",
    "POWER = [1 - b for b in BETA]\n",
    "\n",
    "\n",
    "\n",
    "fig, ax = plt.subplots(figsize=(12, 10))\n",
    "\n",
    "ax.plot(alpha, power)\n",
    "\n",
    "idxs = slice(1,len(W)-1)\n",
    "ax.plot(ALPHA[idxs], POWER[idxs], 'o')\n",
    "\n",
    "\n",
    "for aa, pp, ww in zip(ALPHA[idxs], POWER[idxs], W[idxs]):\n",
    "    ax.text(aa, pp, f\"$w_c$={ww}\", horizontalalignment='left', verticalalignment='top')\n",
    "\n",
    "ax.set_title(\"Power vs significance level\", fontsize=20)\n",
    "ax.set_xlabel(\"Significance level (alpha)\", fontsize=14)\n",
    "ax.set_ylabel(\"Power (1-beta)\", fontsize=14)\n",
    "ax.set_aspect(1)\n",
    "ax.grid();"
   ]
  },
  {
   "cell_type": "code",
   "execution_count": null,
   "metadata": {},
   "outputs": [],
   "source": []
  }
 ],
 "metadata": {
  "kernelspec": {
   "display_name": "Python 3",
   "language": "python",
   "name": "python3"
  },
  "language_info": {
   "codemirror_mode": {
    "name": "ipython",
    "version": 3
   },
   "file_extension": ".py",
   "mimetype": "text/x-python",
   "name": "python",
   "nbconvert_exporter": "python",
   "pygments_lexer": "ipython3",
   "version": "3.7.4"
  }
 },
 "nbformat": 4,
 "nbformat_minor": 2
}
